{
 "cells": [
  {
   "cell_type": "code",
   "execution_count": 101,
   "metadata": {},
   "outputs": [],
   "source": [
    "file = open(\"day14.txt\", \"r\")\n",
    "input = file.read().split('\\n')\n",
    "input_array = [list(row) for row in input]"
   ]
  },
  {
   "cell_type": "code",
   "execution_count": 102,
   "metadata": {},
   "outputs": [],
   "source": [
    "def calculate_load(arr):\n",
    "    count = 0\n",
    "\n",
    "    for i, row in enumerate(arr):\n",
    "        count += row.count('O') * (len(arr)-i)\n",
    "    return(count)"
   ]
  },
  {
   "cell_type": "code",
   "execution_count": 103,
   "metadata": {},
   "outputs": [],
   "source": [
    "def move_north(i, j, arr):\n",
    "    if i > 0 and arr[i-1][j] == '.':\n",
    "        arr[i][j] = '.'\n",
    "        arr[i-1][j] = 'O'\n",
    "        result = move_north(i-1, j, arr)\n",
    "        print(f\"Move North: {result}\")  # Log the result\n",
    "        return result\n",
    "    print(f\"Move North: {arr}\")  # Log arr if the condition isn't met\n",
    "    return arr\n",
    "\n",
    "\n",
    "def move_west(i, j, arr):\n",
    "    if (j > 0 and arr[i][j-1] == '.'):\n",
    "        arr[i][j] = '.'\n",
    "        arr[i][j-1] = 'O'\n",
    "        return move_west(i, j-1, arr)\n",
    "    return arr\n",
    "\n",
    "def move_south(i, j, arr):\n",
    "    if (i < len(arr) - 1 and arr[i+1][j] == '.'):\n",
    "        arr[i][j] = '.'\n",
    "        arr[i+1][j] = 'O'\n",
    "        return move_south(i+1, j, arr)\n",
    "    return arr\n",
    "\n",
    "def move_east(i, j, arr):\n",
    "    if (j < len(arr[0]) - 1 and arr[i][j+1] == '.'):\n",
    "        arr[i][j] = '.'\n",
    "        arr[i][j+1] = 'O'\n",
    "        return move_east(i, j+1, arr)\n",
    "    return arr"
   ]
  },
  {
   "cell_type": "code",
   "execution_count": 104,
   "metadata": {},
   "outputs": [],
   "source": [
    "from functools import lru_cache"
   ]
  },
  {
   "cell_type": "code",
   "execution_count": 105,
   "metadata": {},
   "outputs": [
    {
     "ename": "TypeError",
     "evalue": "'NoneType' object is not subscriptable",
     "output_type": "error",
     "traceback": [
      "\u001b[1;31m---------------------------------------------------------------------------\u001b[0m",
      "\u001b[1;31mTypeError\u001b[0m                                 Traceback (most recent call last)",
      "Cell \u001b[1;32mIn[105], line 34\u001b[0m\n\u001b[0;32m     30\u001b[0m         start \u001b[38;5;241m=\u001b[39m check_row(i, row, \u001b[38;5;124m'\u001b[39m\u001b[38;5;124meast\u001b[39m\u001b[38;5;124m'\u001b[39m, start)\n\u001b[0;32m     32\u001b[0m     \u001b[38;5;28;01mreturn\u001b[39;00m start\n\u001b[1;32m---> 34\u001b[0m \u001b[43miterate\u001b[49m\u001b[43m(\u001b[49m\u001b[43minput_array\u001b[49m\u001b[43m)\u001b[49m\n\u001b[0;32m     35\u001b[0m \u001b[38;5;66;03m# print(\"first iteration: \\n\", '\\n'.join([''.join(sublist) for sublist in input_array]))\u001b[39;00m\n\u001b[0;32m     36\u001b[0m \u001b[38;5;66;03m# print(\"load: \", calculate_load(input_array))\u001b[39;00m\n",
      "Cell \u001b[1;32mIn[105], line 21\u001b[0m, in \u001b[0;36miterate\u001b[1;34m(start)\u001b[0m\n\u001b[0;32m     19\u001b[0m \u001b[38;5;28;01mdef\u001b[39;00m \u001b[38;5;21miterate\u001b[39m(start):\n\u001b[0;32m     20\u001b[0m     \u001b[38;5;28;01mfor\u001b[39;00m i, row \u001b[38;5;129;01min\u001b[39;00m \u001b[38;5;28menumerate\u001b[39m(start):\n\u001b[1;32m---> 21\u001b[0m         start \u001b[38;5;241m=\u001b[39m \u001b[43mcheck_row\u001b[49m\u001b[43m(\u001b[49m\u001b[43mi\u001b[49m\u001b[43m,\u001b[49m\u001b[43m \u001b[49m\u001b[43mrow\u001b[49m\u001b[43m,\u001b[49m\u001b[43m \u001b[49m\u001b[38;5;124;43m'\u001b[39;49m\u001b[38;5;124;43mnorth\u001b[39;49m\u001b[38;5;124;43m'\u001b[39;49m\u001b[43m,\u001b[49m\u001b[43m \u001b[49m\u001b[43mstart\u001b[49m\u001b[43m)\u001b[49m\n\u001b[0;32m     23\u001b[0m     \u001b[38;5;28;01mfor\u001b[39;00m i, row \u001b[38;5;129;01min\u001b[39;00m \u001b[38;5;28menumerate\u001b[39m(start):\n\u001b[0;32m     24\u001b[0m         start \u001b[38;5;241m=\u001b[39m check_row(i, row, \u001b[38;5;124m'\u001b[39m\u001b[38;5;124mwest\u001b[39m\u001b[38;5;124m'\u001b[39m, start)\n",
      "Cell \u001b[1;32mIn[105], line 5\u001b[0m, in \u001b[0;36mcheck_row\u001b[1;34m(i, row, direction, arr)\u001b[0m\n\u001b[0;32m      3\u001b[0m     \u001b[38;5;28;01mfor\u001b[39;00m j, char \u001b[38;5;129;01min\u001b[39;00m \u001b[38;5;28menumerate\u001b[39m(row):\n\u001b[0;32m      4\u001b[0m         \u001b[38;5;28;01mif\u001b[39;00m char \u001b[38;5;241m==\u001b[39m \u001b[38;5;124m'\u001b[39m\u001b[38;5;124mO\u001b[39m\u001b[38;5;124m'\u001b[39m:\n\u001b[1;32m----> 5\u001b[0m             arr \u001b[38;5;241m=\u001b[39m \u001b[43mmove_north\u001b[49m\u001b[43m(\u001b[49m\u001b[43mi\u001b[49m\u001b[43m,\u001b[49m\u001b[43m \u001b[49m\u001b[43mj\u001b[49m\u001b[43m,\u001b[49m\u001b[43m \u001b[49m\u001b[43marr\u001b[49m\u001b[43m)\u001b[49m\n\u001b[0;32m      6\u001b[0m \u001b[38;5;28;01melif\u001b[39;00m direction \u001b[38;5;241m==\u001b[39m \u001b[38;5;124m'\u001b[39m\u001b[38;5;124mwest\u001b[39m\u001b[38;5;124m'\u001b[39m:\n\u001b[0;32m      7\u001b[0m     \u001b[38;5;28;01mfor\u001b[39;00m j, char \u001b[38;5;129;01min\u001b[39;00m \u001b[38;5;28menumerate\u001b[39m(row):\n",
      "Cell \u001b[1;32mIn[103], line 2\u001b[0m, in \u001b[0;36mmove_north\u001b[1;34m(i, j, arr)\u001b[0m\n\u001b[0;32m      1\u001b[0m \u001b[38;5;28;01mdef\u001b[39;00m \u001b[38;5;21mmove_north\u001b[39m(i, j, arr):\n\u001b[1;32m----> 2\u001b[0m     \u001b[38;5;28;01mif\u001b[39;00m i \u001b[38;5;241m>\u001b[39m \u001b[38;5;241m0\u001b[39m \u001b[38;5;129;01mand\u001b[39;00m \u001b[43marr\u001b[49m\u001b[43m[\u001b[49m\u001b[43mi\u001b[49m\u001b[38;5;241;43m-\u001b[39;49m\u001b[38;5;241;43m1\u001b[39;49m\u001b[43m]\u001b[49m[j] \u001b[38;5;241m==\u001b[39m \u001b[38;5;124m'\u001b[39m\u001b[38;5;124m.\u001b[39m\u001b[38;5;124m'\u001b[39m:\n\u001b[0;32m      3\u001b[0m         arr[i][j] \u001b[38;5;241m=\u001b[39m \u001b[38;5;124m'\u001b[39m\u001b[38;5;124m.\u001b[39m\u001b[38;5;124m'\u001b[39m\n\u001b[0;32m      4\u001b[0m         arr[i\u001b[38;5;241m-\u001b[39m\u001b[38;5;241m1\u001b[39m][j] \u001b[38;5;241m=\u001b[39m \u001b[38;5;124m'\u001b[39m\u001b[38;5;124mO\u001b[39m\u001b[38;5;124m'\u001b[39m\n",
      "\u001b[1;31mTypeError\u001b[0m: 'NoneType' object is not subscriptable"
     ]
    }
   ],
   "source": [
    "def check_row(i, row, direction, arr):\n",
    "    if direction == 'north':\n",
    "        for j, char in enumerate(row):\n",
    "            if char == 'O':\n",
    "                arr = move_north(i, j, arr)\n",
    "    elif direction == 'west':\n",
    "        for j, char in enumerate(row):\n",
    "            if char == 'O':\n",
    "                arr = move_west(i, j, arr)\n",
    "    elif direction == 'south':\n",
    "        for j, char in enumerate(row):\n",
    "            if char == 'O':\n",
    "                arr = move_south(i, j, arr)\n",
    "    elif direction == 'east':\n",
    "        for j, char in reversed(list(enumerate(row))):\n",
    "            if char == 'O':\n",
    "                arr = move_east(i, j, arr)\n",
    "\n",
    "def iterate(start):\n",
    "    for i, row in enumerate(start):\n",
    "        start = check_row(i, row, 'north', start)\n",
    "    \n",
    "    for i, row in enumerate(start):\n",
    "        start = check_row(i, row, 'west', start)\n",
    "\n",
    "    for i, row in reversed(list(enumerate(start))):\n",
    "        start = check_row(i, row, 'south', start)\n",
    "\n",
    "    for i, row in enumerate(start):\n",
    "        start = check_row(i, row, 'east', start)\n",
    "\n",
    "    return start\n",
    "\n",
    "iterate(input_array)\n",
    "# print(\"first iteration: \\n\", '\\n'.join([''.join(sublist) for sublist in input_array]))\n",
    "# print(\"load: \", calculate_load(input_array))"
   ]
  }
 ],
 "metadata": {
  "kernelspec": {
   "display_name": "Python 3",
   "language": "python",
   "name": "python3"
  },
  "language_info": {
   "codemirror_mode": {
    "name": "ipython",
    "version": 3
   },
   "file_extension": ".py",
   "mimetype": "text/x-python",
   "name": "python",
   "nbconvert_exporter": "python",
   "pygments_lexer": "ipython3",
   "version": "3.10.11"
  }
 },
 "nbformat": 4,
 "nbformat_minor": 2
}
