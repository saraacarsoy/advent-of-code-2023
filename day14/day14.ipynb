{
 "cells": [
  {
   "cell_type": "code",
   "execution_count": 48,
   "metadata": {},
   "outputs": [],
   "source": [
    "file = open(\"day14.txt\", \"r\")\n",
    "input = file.read().split('\\n')\n",
    "input_array = [list(row) for row in input]"
   ]
  },
  {
   "cell_type": "code",
   "execution_count": 49,
   "metadata": {},
   "outputs": [],
   "source": [
    "def calculate_load(arr):\n",
    "    count = 0\n",
    "\n",
    "    for i, row in enumerate(arr):\n",
    "        count += row.count('O') * (len(arr)-i)\n",
    "    return(count)\n",
    "        "
   ]
  },
  {
   "cell_type": "code",
   "execution_count": 50,
   "metadata": {},
   "outputs": [
    {
     "name": "stdout",
     "output_type": "stream",
     "text": [
      "load:  136\n"
     ]
    }
   ],
   "source": [
    "def check_row(i, row):\n",
    "    for j, char in enumerate(row):\n",
    "        if char == 'O':\n",
    "            can_move(i, j)\n",
    "\n",
    "def can_move(i, j):\n",
    "    if (i > 0 and input_array[i-1][j] == '.'):\n",
    "        input_array[i][j] = '.'\n",
    "        input_array[i-1][j] = 'O'\n",
    "        can_move(i-1, j)\n",
    "\n",
    "for i, row in enumerate(input_array):\n",
    "    check_row(i, row)\n",
    "\n",
    "print(\"load: \", calculate_load(input_array))"
   ]
  }
 ],
 "metadata": {
  "kernelspec": {
   "display_name": "Python 3",
   "language": "python",
   "name": "python3"
  },
  "language_info": {
   "codemirror_mode": {
    "name": "ipython",
    "version": 3
   },
   "file_extension": ".py",
   "mimetype": "text/x-python",
   "name": "python",
   "nbconvert_exporter": "python",
   "pygments_lexer": "ipython3",
   "version": "3.10.11"
  }
 },
 "nbformat": 4,
 "nbformat_minor": 2
}
