{
 "cells": [
  {
   "cell_type": "code",
   "execution_count": 366,
   "metadata": {},
   "outputs": [],
   "source": [
    "file = open(\"day14.txt\", \"r\")\n",
    "input = file.read().split('\\n')\n",
    "input_array = [list(row) for row in input]"
   ]
  },
  {
   "cell_type": "code",
   "execution_count": 367,
   "metadata": {},
   "outputs": [],
   "source": [
    "def calculate_load(arr):\n",
    "    count = 0\n",
    "\n",
    "    for i, row in enumerate(arr):\n",
    "        count += row.count('O') * (len(arr)-i)\n",
    "    return(count)\n",
    "\n",
    "delimiter = \"|\"\n",
    "\n",
    "def array_to_string(arr):\n",
    "    array_str = delimiter.join(''.join(row) for row in arr)\n",
    "\n",
    "    return array_str\n",
    "\n",
    "def string_to_array(array_str):\n",
    "    rows = array_str.split(delimiter)\n",
    "\n",
    "    arr = [list(row) for row in rows]\n",
    "\n",
    "    return arr\n",
    "\n"
   ]
  },
  {
   "cell_type": "code",
   "execution_count": 368,
   "metadata": {},
   "outputs": [],
   "source": [
    "\n",
    "def move_north(i, j):\n",
    "    if (i > 0 and input_array[i-1][j] == '.'):\n",
    "        input_array[i][j] = '.'\n",
    "        input_array[i-1][j] = 'O'\n",
    "        move_north(i-1, j)\n",
    "\n",
    "def move_west(i, j):\n",
    "    if (j > 0 and input_array[i][j-1] == '.'):\n",
    "        input_array[i][j] = '.'\n",
    "        input_array[i][j-1] = 'O'\n",
    "        move_west(i, j-1)\n",
    "\n",
    "def move_south(i, j):\n",
    "    if (i < len(input_array) - 1 and input_array[i+1][j] == '.'):\n",
    "        input_array[i][j] = '.'\n",
    "        input_array[i+1][j] = 'O'\n",
    "        move_south(i+1, j)\n",
    "\n",
    "def move_east(i, j):\n",
    "    if (j < len(input_array[0]) - 1 and input_array[i][j+1] == '.'):\n",
    "        input_array[i][j] = '.'\n",
    "        input_array[i][j+1] = 'O'\n",
    "        move_east(i, j+1)"
   ]
  },
  {
   "cell_type": "code",
   "execution_count": 369,
   "metadata": {},
   "outputs": [],
   "source": [
    "from functools import lru_cache"
   ]
  },
  {
   "cell_type": "code",
   "execution_count": 370,
   "metadata": {},
   "outputs": [
    {
     "name": "stdout",
     "output_type": "stream",
     "text": [
      "8\n",
      "load:  89089\n"
     ]
    }
   ],
   "source": [
    "def check_row_north(i, row):\n",
    "    for j, char in enumerate(row):\n",
    "        if char == 'O':\n",
    "            move_north(i, j)\n",
    "\n",
    "def check_row_west(i, row):\n",
    "    for j, char in enumerate(row):\n",
    "        if char == 'O':\n",
    "            move_west(i, j)\n",
    "\n",
    "def check_row_south(i, row):\n",
    "    for j, char in enumerate(row):\n",
    "        if char == 'O':\n",
    "            move_south(i, j)\n",
    "\n",
    "def check_row_east(i, row):\n",
    "    for j, char in reversed(list(enumerate(row))):\n",
    "        if char == 'O':\n",
    "            move_east(i, j)\n",
    "\n",
    "cache = {}\n",
    "\n",
    "def iterate(start, index):\n",
    "    for i, row in enumerate(input_array):\n",
    "        check_row_north(i, row)\n",
    "\n",
    "    for i, row in enumerate(input_array):\n",
    "        check_row_west(i, row)\n",
    "\n",
    "    for i, row in reversed(list(enumerate(input_array))):\n",
    "        check_row_south(i, row)\n",
    "\n",
    "    for i, row in enumerate(input_array):\n",
    "        check_row_east(i, row)\n",
    "    \n",
    "    end = array_to_string(input_array)\n",
    "\n",
    "    cache[start] = index\n",
    "\n",
    "amount = 1000000000\n",
    "execute_amount = 0\n",
    "\n",
    "for i in range(amount):\n",
    "    inp = array_to_string(input_array)\n",
    "\n",
    "    if inp in cache:\n",
    "        diff = i - cache[inp]\n",
    "        total = (amount // diff) * diff\n",
    "        execute_amount = amount - total + 1\n",
    "\n",
    "        break\n",
    "    else:\n",
    "        iterate(inp, i)\n",
    "\n",
    "for i in range (execute_amount + 1):\n",
    "    inp = array_to_string(input_array)\n",
    "    iterate(inp, i)\n",
    "\n",
    "print(\"load: \", calculate_load(input_array))\n",
    "\n"
   ]
  }
 ],
 "metadata": {
  "kernelspec": {
   "display_name": "Python 3",
   "language": "python",
   "name": "python3"
  },
  "language_info": {
   "codemirror_mode": {
    "name": "ipython",
    "version": 3
   },
   "file_extension": ".py",
   "mimetype": "text/x-python",
   "name": "python",
   "nbconvert_exporter": "python",
   "pygments_lexer": "ipython3",
   "version": "3.10.11"
  }
 },
 "nbformat": 4,
 "nbformat_minor": 2
}
