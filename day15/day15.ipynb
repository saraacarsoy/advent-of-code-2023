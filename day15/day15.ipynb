{
 "cells": [
  {
   "cell_type": "code",
   "execution_count": 31,
   "metadata": {},
   "outputs": [
    {
     "name": "stdout",
     "output_type": "stream",
     "text": [
      "247763\n"
     ]
    }
   ],
   "source": [
    "import re \n",
    "\n",
    "def hash_char(seq):\n",
    "    current_value = 0\n",
    "    for char in seq:\n",
    "        current_value += ord(char)\n",
    "        current_value *= 17\n",
    "        current_value %= 256\n",
    "\n",
    "    return current_value\n",
    "\n",
    "def calc_hash(seq):\n",
    "    current_val = 0\n",
    "    label, operator, focal_length = get_properties(seq)\n",
    "    box = boxes[hash_char(label)]\n",
    "\n",
    "    current_val = hash_char(seq)\n",
    "    \n",
    "    sort_boxes(label, operator, focal_length, box)\n",
    "\n",
    "    return current_val\n",
    "\n",
    "def sort_boxes(label, operator, focal_length, box):\n",
    "    if operator == '-':\n",
    "        if label in box:\n",
    "            del box[label]\n",
    "    else:\n",
    "        box[label] = focal_length\n",
    "\n",
    "def get_properties(seq):\n",
    "    match = re.fullmatch(pattern, seq)\n",
    "\n",
    "    label = match.group(1)\n",
    "    operator = match.group(2)\n",
    "    focal_length = match.group(3)\n",
    "\n",
    "    return label, operator, focal_length\n",
    "\n",
    "\n",
    "def read_input():\n",
    "    file = open(\"day15.txt\", \"r\")\n",
    "    return file.read().split(',')\n",
    "\n",
    "total = 0\n",
    "pattern = re.compile(\"([a-zA-Z]+)([=,-])(\\d*)\")\n",
    "boxes = []\n",
    "\n",
    "for _ in range(256):\n",
    "    boxes.append(dict())\n",
    "\n",
    "for seq in read_input():\n",
    "    total += calc_hash(seq)\n",
    "\n",
    "\n",
    "def calculate_focusing_power(box_number, slot_number, focal_length):\n",
    "    return (box_number + 1) * slot_number * focal_length\n",
    "\n",
    "focusing_power = 0\n",
    "focusing_power_arr = []\n",
    "for idx, box in enumerate(boxes):\n",
    "    box_number = idx\n",
    "    slot_number = 1\n",
    "    \n",
    "    for label, focal_length in box.items():\n",
    "        focal_length = int(focal_length)\n",
    "        focusing_power = calculate_focusing_power(box_number, slot_number, focal_length)\n",
    "        focusing_power_arr.append(focusing_power)\n",
    "\n",
    "        slot_number += 1\n",
    "\n",
    "print(sum(focusing_power_arr))\n",
    "\n"
   ]
  },
  {
   "cell_type": "code",
   "execution_count": null,
   "metadata": {},
   "outputs": [],
   "source": []
  }
 ],
 "metadata": {
  "kernelspec": {
   "display_name": "Python 3",
   "language": "python",
   "name": "python3"
  },
  "language_info": {
   "codemirror_mode": {
    "name": "ipython",
    "version": 3
   },
   "file_extension": ".py",
   "mimetype": "text/x-python",
   "name": "python",
   "nbconvert_exporter": "python",
   "pygments_lexer": "ipython3",
   "version": "3.10.11"
  }
 },
 "nbformat": 4,
 "nbformat_minor": 2
}
