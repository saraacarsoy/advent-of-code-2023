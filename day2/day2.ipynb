{
 "cells": [
  {
   "cell_type": "code",
   "execution_count": 263,
   "metadata": {},
   "outputs": [],
   "source": [
    "import re\n",
    "file = open(\"day2.txt\", \"r\")"
   ]
  },
  {
   "cell_type": "code",
   "execution_count": 264,
   "metadata": {},
   "outputs": [
    {
     "name": "stdout",
     "output_type": "stream",
     "text": [
      "63981\n"
     ]
    }
   ],
   "source": [
    "max_counts = {\n",
    "    \"blue\": 14,\n",
    "    \"red\": 12,\n",
    "    \"green\": 13\n",
    "}\n",
    "\n",
    "count = 0\n",
    "power_count = 0\n",
    "\n",
    "def get_power(counts):\n",
    "    global power_count\n",
    "    power = counts['red']*counts['blue']*counts['green']\n",
    "    power_count += power\n",
    "\n",
    "def get_max_amount(draws):\n",
    "    counts = {'red': 0, 'blue': 0, 'green': 0}\n",
    "\n",
    "    for draw in draws:\n",
    "        quantity, color = draw.split()\n",
    "        quantity = int(quantity)\n",
    "        if quantity > counts[color]:\n",
    "            counts[color] = quantity\n",
    "\n",
    "    get_power(counts)\n",
    "\n",
    "def check_draws(draws):\n",
    "    for draw in draws:\n",
    "        num, color = draw.split()\n",
    "        num = int(num)\n",
    "        if num > max_counts.get(color, 0):\n",
    "            return False\n",
    "    return True\n",
    "\n",
    "\n",
    "def get_game_round(row):\n",
    "    match = re.search(r\"Game (\\d+):\", row)\n",
    "    return  match.group(1)\n",
    "        \n",
    "\n",
    "for row in file:\n",
    "    pattern = re.compile(r'\\d+\\s\\w+')\n",
    "    draws = pattern.findall(row)\n",
    "    \n",
    "    # part1\n",
    "    # game_arr = check_draws(draws)\n",
    "    # if check_draws(draws):\n",
    "    #     game_round = get_game_round(row)\n",
    "    #     count += int(game_round)'\n",
    "\n",
    "    #part2\n",
    "    get_max_amount(draws)\n",
    "\n",
    "print(power_count)"
   ]
  },
  {
   "cell_type": "code",
   "execution_count": null,
   "metadata": {},
   "outputs": [],
   "source": []
  }
 ],
 "metadata": {
  "kernelspec": {
   "display_name": "Python 3",
   "language": "python",
   "name": "python3"
  },
  "language_info": {
   "codemirror_mode": {
    "name": "ipython",
    "version": 3
   },
   "file_extension": ".py",
   "mimetype": "text/x-python",
   "name": "python",
   "nbconvert_exporter": "python",
   "pygments_lexer": "ipython3",
   "version": "3.10.11"
  }
 },
 "nbformat": 4,
 "nbformat_minor": 2
}
