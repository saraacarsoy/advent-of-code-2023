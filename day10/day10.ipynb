{
 "cells": [
  {
   "cell_type": "code",
   "execution_count": 1,
   "metadata": {},
   "outputs": [],
   "source": [
    "def read_input():\n",
    "    with open('day10.txt', 'r') as file:\n",
    "        lines = file.read().split('\\n')\n",
    "        return [list(line) for line in lines]"
   ]
  },
  {
   "cell_type": "code",
   "execution_count": 2,
   "metadata": {},
   "outputs": [],
   "source": [
    "def can_move_up(arr, x, y, direction):\n",
    "    if x - 1 >= 0 and direction['up'] and arr[x - 1][y] in direction['up']:\n",
    "        return x - 1, y\n",
    "\n",
    "def can_move_down(arr, x, y, direction):\n",
    "    if x + 1 < len(arr) and direction['down'] and arr[x + 1][y] in direction['down']:\n",
    "        return x + 1, y\n",
    "\n",
    "def can_move_left(arr, x, y, direction):\n",
    "    if y - 1 >= 0 and direction['left'] and arr[x][y - 1] in direction['left']:\n",
    "        return x, y - 1\n",
    "\n",
    "def can_move_right(arr, x, y, direction):\n",
    "    if y + 1 < len(arr[0]) and direction['right'] and arr[x][y + 1] in direction['right']:\n",
    "        return x, y + 1"
   ]
  },
  {
   "cell_type": "code",
   "execution_count": 3,
   "metadata": {},
   "outputs": [],
   "source": [
    "pipe_directions = [\n",
    "    {\"L\": {\"up\": [\"7\", \"|\", \"F\"], \"down\": None, \"right\": [\"J\", \"-\", \"7\"], \"left\": None}},\n",
    "    {\"J\": {\"up\": [\"7\", \"|\", \"F\"], \"down\": None, \"right\": None, \"left\": [\"L\", \"-\", \"F\"]}},\n",
    "    {\"F\": {\"up\": None, \"down\": [\"L\", \"|\", \"J\"], \"right\": [\"J\", \"-\", \"7\"], \"left\": None}},\n",
    "    {\"7\": {\"up\": None, \"down\": [\"L\", \"|\", \"J\"], \"right\": None, \"left\": [\"L\", \"-\", \"F\"]}},\n",
    "    {\"|\": {\"up\": [\"7\", \"|\", \"F\"], \"down\": [\"L\", \"|\", \"J\"], \"right\": None, \"left\": None}},\n",
    "    {\"-\": {\"up\": None, \"down\": None, \"right\": [\"J\", \"-\", \"7\"], \"left\": [\"L\", \"-\", \"F\"]}},\n",
    "    {\"S\": {\"up\": [\"7\", \"|\", \"F\"], \"down\": None, \"right\": [\"J\", \"-\", \"7\"], \"left\": None}},\n",
    "    \n",
    "    # {\"S\": {\"up\": None, \"down\": [\"L\", \"|\", \"J\"], \"right\": [\"J\", \"-\", \"7\"], \"left\": None}}, #example is 'F'\n",
    "]"
   ]
  },
  {
   "cell_type": "code",
   "execution_count": 4,
   "metadata": {},
   "outputs": [],
   "source": [
    "def get_next_pipe_directions(x, y, arr):\n",
    "    next_pipe = arr[x][y]\n",
    "    for direction in pipe_directions:\n",
    "        if next_pipe in direction:\n",
    "            return direction[next_pipe]\n",
    "    return None\n",
    "\n",
    "def dfs(arr, visited_set, x, y, distance, directions):\n",
    "    if x < 0 or x >= len(arr) or y < 0 or y >= len(arr[0]) or (x, y) in visited_set or arr[x][y] == '.':\n",
    "        return distance - 1\n",
    "\n",
    "    visited_set.add((x, y))\n",
    "\n",
    "    up = can_move_up(arr, x, y, directions)\n",
    "    down = can_move_down(arr, x, y, directions)\n",
    "    left = can_move_left(arr, x, y, directions)\n",
    "    right = can_move_right(arr, x, y, directions)\n",
    "        \n",
    "    next_distances = []\n",
    "\n",
    "    if up:\n",
    "        directions = get_next_pipe_directions(x-1, y, arr)\n",
    "        next_distances.append(dfs(arr, visited_set, up[0], up[1], distance + 1, directions))\n",
    "    if down:\n",
    "        directions = get_next_pipe_directions(x+1, y, arr)\n",
    "        next_distances.append(dfs(arr, visited_set, down[0], down[1], distance + 1, directions))\n",
    "    if left:\n",
    "        directions = get_next_pipe_directions(x, y-1, arr)\n",
    "        next_distances.append(dfs(arr, visited_set, left[0], left[1], distance + 1, directions))\n",
    "    if right:\n",
    "        directions = get_next_pipe_directions(x, y+1, arr)\n",
    "        next_distances.append(dfs(arr, visited_set, right[0], right[1], distance + 1, directions))\n",
    "\n",
    "    return max(next_distances, default=distance)"
   ]
  },
  {
   "cell_type": "code",
   "execution_count": 5,
   "metadata": {},
   "outputs": [
    {
     "ename": "",
     "evalue": "",
     "output_type": "error",
     "traceback": [
      "\u001b[1;31mThe Kernel crashed while executing code in the the current cell or a previous cell. Please review the code in the cell(s) to identify a possible cause of the failure. Click <a href='https://aka.ms/vscodeJupyterKernelCrash'>here</a> for more info. View Jupyter <a href='command:jupyter.viewOutput'>log</a> for further details."
     ]
    }
   ],
   "source": [
    "def find_farthest_point():\n",
    "    map_layout = read_input()\n",
    "    visited_set = set()\n",
    "    max_distance = 0\n",
    "\n",
    "    for i in range(len(map_layout)):\n",
    "        for j in range(len(map_layout[i])):\n",
    "            if map_layout[i][j] == 'S':\n",
    "                start_pipe = map_layout[i][j]\n",
    "                start_directions = next((pipe[start_pipe] for pipe in pipe_directions if pipe.get(start_pipe)), None)\n",
    "\n",
    "                if start_directions:\n",
    "                    print(dfs(map_layout, visited_set, i, j, 0, start_directions))\n",
    "                    max_distance = max(max_distance, dfs(map_layout, visited_set, i, j, 0, start_directions))\n",
    "                else:\n",
    "                    print('Starting position not found in pipe directions')\n",
    "\n",
    "    print(\"Farthest distance:\", max_distance)\n",
    "\n",
    "find_farthest_point()\n"
   ]
  },
  {
   "cell_type": "markdown",
   "metadata": {},
   "source": []
  }
 ],
 "metadata": {
  "kernelspec": {
   "display_name": "Python 3",
   "language": "python",
   "name": "python3"
  },
  "language_info": {
   "codemirror_mode": {
    "name": "ipython",
    "version": 3
   },
   "file_extension": ".py",
   "mimetype": "text/x-python",
   "name": "python",
   "nbconvert_exporter": "python",
   "pygments_lexer": "ipython3",
   "version": "3.10.11"
  }
 },
 "nbformat": 4,
 "nbformat_minor": 2
}
