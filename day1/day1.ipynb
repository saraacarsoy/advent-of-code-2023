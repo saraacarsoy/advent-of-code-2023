{
 "cells": [
  {
   "cell_type": "code",
   "execution_count": 95,
   "metadata": {},
   "outputs": [
    {
     "name": "stdout",
     "output_type": "stream",
     "text": [
      "[12, 38, 15, 77]\n",
      "142\n"
     ]
    }
   ],
   "source": [
    "file = open(\"day1.txt\", \"r\")\n",
    "\n",
    "def sum_first_last(arr):\n",
    "    first_value = str(arr[0])\n",
    "    last_value = str(arr[-1])\n",
    "    concatenated_values = first_value + last_value \n",
    "    return int(concatenated_values)\n",
    "\n",
    "total_arr = []\n",
    "\n",
    "def num_checker(row):\n",
    "    numbers = []\n",
    "\n",
    "    for char in row:\n",
    "        if char.isdigit():\n",
    "            numbers.append(int(char))\n",
    "        \n",
    "    total_arr.append(sum_first_last(numbers))\n",
    "\n",
    "\n",
    "for row in file:\n",
    "    if row != '\\n':\n",
    "        num_checker(row)\n",
    "\n",
    "print(total_arr)\n",
    "\n",
    "sum = 0\n",
    "\n",
    "for i in range(len(total_arr)):\n",
    "   sum = sum + total_arr[i]\n",
    "print (sum)"
   ]
  }
 ],
 "metadata": {
  "kernelspec": {
   "display_name": "Python 3",
   "language": "python",
   "name": "python3"
  },
  "language_info": {
   "codemirror_mode": {
    "name": "ipython",
    "version": 3
   },
   "file_extension": ".py",
   "mimetype": "text/x-python",
   "name": "python",
   "nbconvert_exporter": "python",
   "pygments_lexer": "ipython3",
   "version": "3.10.11"
  }
 },
 "nbformat": 4,
 "nbformat_minor": 2
}
